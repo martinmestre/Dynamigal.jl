{
 "cells": [
  {
   "cell_type": "markdown",
   "metadata": {},
   "source": [
    "# Quick tests outside of Test macro"
   ]
  },
  {
   "cell_type": "code",
   "execution_count": 1,
   "metadata": {},
   "outputs": [
    {
     "data": {
      "text/plain": [
       "Python: <module 'gala.integrate' from '/home/mmestre/.conda/envs/cosmos/lib/python3.11/site-packages/gala/integrate/__init__.py'>"
      ]
     },
     "metadata": {},
     "output_type": "display_data"
    }
   ],
   "source": [
    "using GalacticDynamics\n",
    "using Test\n",
    "using PythonCall\n",
    "using DifferentialEquations\n",
    "using CairoMakie\n",
    "using BenchmarkTools\n",
    "\n",
    "\n",
    "pyimport(\"sys\").\"path\".append(\"\")\n",
    "pyimport(\"sys\").\"path\".append(\"python\")\n",
    "accelerations_py = pyimport(\"accelerations\")\n",
    "au = pyimport(\"astropy.units\")\n",
    "gd = pyimport(\"gala.dynamics\")\n",
    "gp = pyimport(\"gala.potential\")\n",
    "gu = pyimport(\"gala.units\")\n",
    "gi = pyimport(\"gala.integrate\")"
   ]
  },
  {
   "cell_type": "code",
   "execution_count": 41,
   "metadata": {},
   "outputs": [
    {
     "name": "stdout",
     "output_type": "stream",
     "text": [
      "𝔹 = 1.533297373418205\n"
     ]
    },
    {
     "data": {
      "text/plain": [
       "Python: <PhaseSpacePosition cartesian, dim=3, shape=()>"
      ]
     },
     "metadata": {},
     "output_type": "display_data"
    }
   ],
   "source": [
    "\n",
    "t₁, t₂ = 0.0, 3.0\n",
    "t_range = (t₁, t₂)\n",
    "Δt = 0.01\n",
    "n_max = (t₂-t₁)/Δt\n",
    "x₀ = -50.0*[1,0,0]\n",
    "v₀ = 200.0*[0,1,0]\n",
    "m = 10.0^12*𝕦.m  # Msun\n",
    "a = 20.0*𝕦.l\n",
    "pot = NFW(m, a)\n",
    "c = concentration(pot)\n",
    "f(x) = log(1+x)-x/(1+x)\n",
    "const 𝔹 = f(c)\n",
    "@show 𝔹\n",
    "m_g = m/f(c)\n",
    "usys = gu.UnitSystem(au.kpc, au.Gyr, au.Msun, au.radian, au.kpc/au.Gyr, au.kpc/au.Gyr^2)\n",
    "pot_Gala = gp.NFWPotential(Py(adimensional(m_g))*au.Msun, Py(adimensional(a))*au.kpc, units=usys)\n",
    "w₀ = gd.PhaseSpacePosition(pos=Py(x₀)*au.kpc, vel=Py(v₀)*au.kpc/au.Gyr)"
   ]
  },
  {
   "cell_type": "code",
   "execution_count": 42,
   "metadata": {},
   "outputs": [
    {
     "data": {
      "text/plain": [
       "0.0"
      ]
     },
     "metadata": {},
     "output_type": "display_data"
    }
   ],
   "source": [
    "acc =  acceleration(pot,x₀)[1]\n",
    "acc_Gala = pyconvert(Vector{Float64},pot_Gala.acceleration(w₀)[0])[1];\n",
    "acc_diff = abs(acc - acc_Gala)"
   ]
  },
  {
   "cell_type": "code",
   "execution_count": 45,
   "metadata": {},
   "outputs": [
    {
     "ename": "MethodError",
     "evalue": "MethodError: no method matching evolve(::NFW{Float64, Float64}, ::Vector{Float64}, ::Vector{Float64}, ::Tuple{Float64, Float64}; options::@NamedTuple{abstol::Float64, reltol::Float64, saveat::Float64})\n\nClosest candidates are:\n  evolve(::P, !Matched::TestParticle, !Matched::Tuple{Union{Quantity{T, 𝐓, U}, Level{L, S, Quantity{T, 𝐓, U}} where {L, S}} where {T, U}, Union{Quantity{T, 𝐓, U}, Level{L, S, Quantity{T, 𝐓, U}} where {L, S}} where {T, U}}, ::Any; options) where P<:Union{GalacticDynamics.AbstractPotential, Vector{<:GalacticDynamics.AbstractPotential}}\n   @ GalacticDynamics ~/.julia/dev/GalacticDynamics/src/evolutions.jl:33\n  evolve(::P, !Matched::Event, !Matched::Tuple{Union{Quantity{T, 𝐓, U}, Level{L, S, Quantity{T, 𝐓, U}} where {L, S}} where {T, U}, Union{Quantity{T, 𝐓, U}, Level{L, S, Quantity{T, 𝐓, U}} where {L, S}} where {T, U}}, ::Any; options) where P<:Union{GalacticDynamics.AbstractPotential, Vector{<:GalacticDynamics.AbstractPotential}}\n   @ GalacticDynamics ~/.julia/dev/GalacticDynamics/src/evolutions.jl:24\n  evolve(!Matched::Vector{P}, !Matched::Tuple{T, T}, ::Any; options) where {P<:GalacticDynamics.AbstractMacroParticle, T<:Real}\n   @ GalacticDynamics ~/.julia/dev/GalacticDynamics/src/evolutions.jl:42\n  ...\n",
     "output_type": "error",
     "traceback": [
      "MethodError: no method matching evolve(::NFW{Float64, Float64}, ::Vector{Float64}, ::Vector{Float64}, ::Tuple{Float64, Float64}; options::@NamedTuple{abstol::Float64, reltol::Float64, saveat::Float64})\n",
      "\n",
      "Closest candidates are:\n",
      "  evolve(::P, !Matched::TestParticle, !Matched::Tuple{Union{Quantity{T, 𝐓, U}, Level{L, S, Quantity{T, 𝐓, U}} where {L, S}} where {T, U}, Union{Quantity{T, 𝐓, U}, Level{L, S, Quantity{T, 𝐓, U}} where {L, S}} where {T, U}}, ::Any; options) where P<:Union{GalacticDynamics.AbstractPotential, Vector{<:GalacticDynamics.AbstractPotential}}\n",
      "   @ GalacticDynamics ~/.julia/dev/GalacticDynamics/src/evolutions.jl:33\n",
      "  evolve(::P, !Matched::Event, !Matched::Tuple{Union{Quantity{T, 𝐓, U}, Level{L, S, Quantity{T, 𝐓, U}} where {L, S}} where {T, U}, Union{Quantity{T, 𝐓, U}, Level{L, S, Quantity{T, 𝐓, U}} where {L, S}} where {T, U}}, ::Any; options) where P<:Union{GalacticDynamics.AbstractPotential, Vector{<:GalacticDynamics.AbstractPotential}}\n",
      "   @ GalacticDynamics ~/.julia/dev/GalacticDynamics/src/evolutions.jl:24\n",
      "  evolve(!Matched::Vector{P}, !Matched::Tuple{T, T}, ::Any; options) where {P<:GalacticDynamics.AbstractMacroParticle, T<:Real}\n",
      "   @ GalacticDynamics ~/.julia/dev/GalacticDynamics/src/evolutions.jl:42\n",
      "  ...\n",
      "\n",
      "\n",
      "Stacktrace:\n",
      " [1] top-level scope\n",
      "   @ ~/.julia/dev/GalacticDynamics/test/QuickTests.ipynb:4"
     ]
    }
   ],
   "source": [
    "sol_gala = pot_Gala.integrate_orbit(w₀, dt=Δt*au.Gyr, t1=t₁, t2=(t₂)*au.Gyr,\n",
    "                                    Integrator=gi.DOPRI853Integrator,\n",
    "                                    Integrator_kwargs=Dict(\"rtol\"=>5.0e-12, \"atol\"=>0.5e-12))\n",
    "sol = evolve(pot, x₀, v₀, t_range; options=ntSolverOptions(; reltol=5.0e-12, abstol=0.5e-12,saveat=Δt))\n",
    "@show 𝕤.ode\n",
    "@show sol_gala.t[-1]\n",
    "@show sol.t[end]\n",
    "@show sol_gala.x[0+100]\n",
    "@show sol.x[1,:][1+100]\n",
    "orb_gala_x = pyconvert(Vector{Float64}, sol_gala.x)\n",
    "orb_gala_y = pyconvert(Vector{Float64}, sol_gala.y)\n",
    "orb_x = sol.x[1,:]\n",
    "orb_y = sol.x[2,:]\n",
    "sol_diff = abs.(orb_gala_x-orb_x)\n",
    "@show findmax(sol_diff)\n",
    "lines(orb_gala_x,orb_gala_y)\n",
    "lines!(orb_x,orb_y)\n",
    "current_figure()\n",
    "\n"
   ]
  },
  {
   "cell_type": "code",
   "execution_count": 46,
   "metadata": {},
   "outputs": [
    {
     "data": {
      "text/html": [
       "# 8 methods for generic function <b>evolve</b> from \u001b[32mGalacticDynamics\u001b[39m:<ul><li> evolve(mps::<b>Vector{P}</b>, t_span::<b>Tuple{T, T}</b>, solver; <i>options</i>)<i> where {P<:GalacticDynamics.AbstractMacroParticle, T<:Real}</i> in GalacticDynamics at <a href=\"https://github.com/martinmestre/GalacticDynamics.jl/tree/9b90b71727f49617517c5d96ffcbab9f688e1931//src/evolutions.jl#L42\" target=\"_blank\">/home/mmestre/.julia/dev/GalacticDynamics/src/evolutions.jl:42</a></li> <li> evolve(mps::<b>Vector{P}</b>, t_span::<b>Tuple{T, T}</b>; <i>...</i>)<i> where {P<:GalacticDynamics.AbstractMacroParticle, T<:Real}</i> in GalacticDynamics at <a href=\"https://github.com/martinmestre/GalacticDynamics.jl/tree/9b90b71727f49617517c5d96ffcbab9f688e1931//src/evolutions.jl#L42\" target=\"_blank\">/home/mmestre/.julia/dev/GalacticDynamics/src/evolutions.jl:42</a></li> <li> evolve(pot::<b>P</b>, p::<b>TestParticle</b>, t_span::<b>Tuple{Union{Quantity{T, 𝐓, U}, Level{L, S, Quantity{T, 𝐓, U}} where {L, S}} where {T, U}, Union{Quantity{T, 𝐓, U}, Level{L, S, Quantity{T, 𝐓, U}} where {L, S}} where {T, U}}</b>, solver; <i>options</i>)<i> where P<:Union{GalacticDynamics.AbstractPotential, Vector{<:GalacticDynamics.AbstractPotential}}</i> in GalacticDynamics at <a href=\"https://github.com/martinmestre/GalacticDynamics.jl/tree/9b90b71727f49617517c5d96ffcbab9f688e1931//src/evolutions.jl#L33\" target=\"_blank\">/home/mmestre/.julia/dev/GalacticDynamics/src/evolutions.jl:33</a></li> <li> evolve(pot::<b>Union{GalacticDynamics.AbstractPotential, Vector{<:GalacticDynamics.AbstractPotential}}</b>, x::<b>Vector{<:Union{Quantity{T, 𝐋, U}, Level{L, S, Quantity{T, 𝐋, U}} where {L, S}} where {T, U}}</b>, v::<b>Vector{<:Union{Quantity{T, 𝐋 𝐓^-1, U}, Level{L, S, Quantity{T, 𝐋 𝐓^-1, U}} where {L, S}} where {T, U}}</b>, t_span::<b>Tuple{Union{Quantity{T, 𝐓, U}, Level{L, S, Quantity{T, 𝐓, U}} where {L, S}} where {T, U}, Union{Quantity{T, 𝐓, U}, Level{L, S, Quantity{T, 𝐓, U}} where {L, S}} where {T, U}}</b>; <i>...</i>) in GalacticDynamics at <a href=\"https://github.com/martinmestre/GalacticDynamics.jl/tree/9b90b71727f49617517c5d96ffcbab9f688e1931//src/evolutions.jl#L16\" target=\"_blank\">/home/mmestre/.julia/dev/GalacticDynamics/src/evolutions.jl:16</a></li> <li> evolve(pot::<b>Union{GalacticDynamics.AbstractPotential, Vector{<:GalacticDynamics.AbstractPotential}}</b>, x::<b>Vector{<:Union{Quantity{T, 𝐋, U}, Level{L, S, Quantity{T, 𝐋, U}} where {L, S}} where {T, U}}</b>, v::<b>Vector{<:Union{Quantity{T, 𝐋 𝐓^-1, U}, Level{L, S, Quantity{T, 𝐋 𝐓^-1, U}} where {L, S}} where {T, U}}</b>, t_span::<b>Tuple{Union{Quantity{T, 𝐓, U}, Level{L, S, Quantity{T, 𝐓, U}} where {L, S}} where {T, U}, Union{Quantity{T, 𝐓, U}, Level{L, S, Quantity{T, 𝐓, U}} where {L, S}} where {T, U}}</b>, solver; <i>options</i>) in GalacticDynamics at <a href=\"https://github.com/martinmestre/GalacticDynamics.jl/tree/9b90b71727f49617517c5d96ffcbab9f688e1931//src/evolutions.jl#L16\" target=\"_blank\">/home/mmestre/.julia/dev/GalacticDynamics/src/evolutions.jl:16</a></li> <li> evolve(pot::<b>P</b>, event::<b>Event</b>, t_span::<b>Tuple{Union{Quantity{T, 𝐓, U}, Level{L, S, Quantity{T, 𝐓, U}} where {L, S}} where {T, U}, Union{Quantity{T, 𝐓, U}, Level{L, S, Quantity{T, 𝐓, U}} where {L, S}} where {T, U}}</b>; <i>...</i>)<i> where P<:Union{GalacticDynamics.AbstractPotential, Vector{<:GalacticDynamics.AbstractPotential}}</i> in GalacticDynamics at <a href=\"https://github.com/martinmestre/GalacticDynamics.jl/tree/9b90b71727f49617517c5d96ffcbab9f688e1931//src/evolutions.jl#L24\" target=\"_blank\">/home/mmestre/.julia/dev/GalacticDynamics/src/evolutions.jl:24</a></li> <li> evolve(pot::<b>P</b>, event::<b>Event</b>, t_span::<b>Tuple{Union{Quantity{T, 𝐓, U}, Level{L, S, Quantity{T, 𝐓, U}} where {L, S}} where {T, U}, Union{Quantity{T, 𝐓, U}, Level{L, S, Quantity{T, 𝐓, U}} where {L, S}} where {T, U}}</b>, solver; <i>options</i>)<i> where P<:Union{GalacticDynamics.AbstractPotential, Vector{<:GalacticDynamics.AbstractPotential}}</i> in GalacticDynamics at <a href=\"https://github.com/martinmestre/GalacticDynamics.jl/tree/9b90b71727f49617517c5d96ffcbab9f688e1931//src/evolutions.jl#L24\" target=\"_blank\">/home/mmestre/.julia/dev/GalacticDynamics/src/evolutions.jl:24</a></li> <li> evolve(pot::<b>P</b>, p::<b>TestParticle</b>, t_span::<b>Tuple{Union{Quantity{T, 𝐓, U}, Level{L, S, Quantity{T, 𝐓, U}} where {L, S}} where {T, U}, Union{Quantity{T, 𝐓, U}, Level{L, S, Quantity{T, 𝐓, U}} where {L, S}} where {T, U}}</b>; <i>...</i>)<i> where P<:Union{GalacticDynamics.AbstractPotential, Vector{<:GalacticDynamics.AbstractPotential}}</i> in GalacticDynamics at <a href=\"https://github.com/martinmestre/GalacticDynamics.jl/tree/9b90b71727f49617517c5d96ffcbab9f688e1931//src/evolutions.jl#L33\" target=\"_blank\">/home/mmestre/.julia/dev/GalacticDynamics/src/evolutions.jl:33</a></li> </ul>"
      ],
      "text/plain": [
       "# 8 methods for generic function \"evolve\" from \u001b[32mGalacticDynamics\u001b[39m:\n",
       " [1] evolve(\u001b[90mmps\u001b[39m::\u001b[1mVector\u001b[22m\u001b[0m{P}, \u001b[90mt_span\u001b[39m::\u001b[1mTuple\u001b[22m\u001b[0m{T, T}, \u001b[90msolver\u001b[39m; options) where {P<:GalacticDynamics.AbstractMacroParticle, T<:Real}\n",
       "\u001b[90m     @\u001b[39m \u001b[90m~/.julia/dev/GalacticDynamics/src/\u001b[39m\u001b[90m\u001b[4mevolutions.jl:42\u001b[24m\u001b[39m\n",
       " [2] evolve(\u001b[90mmps\u001b[39m::\u001b[1mVector\u001b[22m\u001b[0m{P}, \u001b[90mt_span\u001b[39m::\u001b[1mTuple\u001b[22m\u001b[0m{T, T}; ...) where {P<:GalacticDynamics.AbstractMacroParticle, T<:Real}\n",
       "\u001b[90m     @\u001b[39m \u001b[90m~/.julia/dev/GalacticDynamics/src/\u001b[39m\u001b[90m\u001b[4mevolutions.jl:42\u001b[24m\u001b[39m\n",
       " [3] evolve(\u001b[90mpot\u001b[39m::\u001b[1mP\u001b[22m, \u001b[90mp\u001b[39m::\u001b[1mTestParticle\u001b[22m, \u001b[90mt_span\u001b[39m::\u001b[1mTuple\u001b[22m\u001b[0m{Union{Quantity{T, 𝐓, U}, Level{L, S, Quantity{T, 𝐓, U}} where {L, S}} where {T, U}, Union{Quantity{T, 𝐓, U}, Level{L, S, Quantity{T, 𝐓, U}} where {L, S}} where {T, U}}, \u001b[90msolver\u001b[39m; options) where P<:Union{GalacticDynamics.AbstractPotential, Vector{<:GalacticDynamics.AbstractPotential}}\n",
       "\u001b[90m     @\u001b[39m \u001b[90m~/.julia/dev/GalacticDynamics/src/\u001b[39m\u001b[90m\u001b[4mevolutions.jl:33\u001b[24m\u001b[39m\n",
       " [4] evolve(\u001b[90mpot\u001b[39m::\u001b[1mUnion\u001b[22m\u001b[0m{GalacticDynamics.AbstractPotential, Vector{<:GalacticDynamics.AbstractPotential}}, \u001b[90mx\u001b[39m::\u001b[1mVector\u001b[22m\u001b[0m{<:Union{Quantity{T, 𝐋, U}, Level{L, S, Quantity{T, 𝐋, U}} where {L, S}} where {T, U}}, \u001b[90mv\u001b[39m::\u001b[1mVector\u001b[22m\u001b[0m{<:Union{Quantity{T, 𝐋 𝐓^-1, U}, Level{L, S, Quantity{T, 𝐋 𝐓^-1, U}} where {L, S}} where {T, U}}, \u001b[90mt_span\u001b[39m::\u001b[1mTuple\u001b[22m\u001b[0m{Union{Quantity{T, 𝐓, U}, Level{L, S, Quantity{T, 𝐓, U}} where {L, S}} where {T, U}, Union{Quantity{T, 𝐓, U}, Level{L, S, Quantity{T, 𝐓, U}} where {L, S}} where {T, U}}; ...)\n",
       "\u001b[90m     @\u001b[39m \u001b[90m~/.julia/dev/GalacticDynamics/src/\u001b[39m\u001b[90m\u001b[4mevolutions.jl:16\u001b[24m\u001b[39m\n",
       " [5] evolve(\u001b[90mpot\u001b[39m::\u001b[1mUnion\u001b[22m\u001b[0m{GalacticDynamics.AbstractPotential, Vector{<:GalacticDynamics.AbstractPotential}}, \u001b[90mx\u001b[39m::\u001b[1mVector\u001b[22m\u001b[0m{<:Union{Quantity{T, 𝐋, U}, Level{L, S, Quantity{T, 𝐋, U}} where {L, S}} where {T, U}}, \u001b[90mv\u001b[39m::\u001b[1mVector\u001b[22m\u001b[0m{<:Union{Quantity{T, 𝐋 𝐓^-1, U}, Level{L, S, Quantity{T, 𝐋 𝐓^-1, U}} where {L, S}} where {T, U}}, \u001b[90mt_span\u001b[39m::\u001b[1mTuple\u001b[22m\u001b[0m{Union{Quantity{T, 𝐓, U}, Level{L, S, Quantity{T, 𝐓, U}} where {L, S}} where {T, U}, Union{Quantity{T, 𝐓, U}, Level{L, S, Quantity{T, 𝐓, U}} where {L, S}} where {T, U}}, \u001b[90msolver\u001b[39m; options)\n",
       "\u001b[90m     @\u001b[39m \u001b[90m~/.julia/dev/GalacticDynamics/src/\u001b[39m\u001b[90m\u001b[4mevolutions.jl:16\u001b[24m\u001b[39m\n",
       " [6] evolve(\u001b[90mpot\u001b[39m::\u001b[1mP\u001b[22m, \u001b[90mevent\u001b[39m::\u001b[1mEvent\u001b[22m, \u001b[90mt_span\u001b[39m::\u001b[1mTuple\u001b[22m\u001b[0m{Union{Quantity{T, 𝐓, U}, Level{L, S, Quantity{T, 𝐓, U}} where {L, S}} where {T, U}, Union{Quantity{T, 𝐓, U}, Level{L, S, Quantity{T, 𝐓, U}} where {L, S}} where {T, U}}; ...) where P<:Union{GalacticDynamics.AbstractPotential, Vector{<:GalacticDynamics.AbstractPotential}}\n",
       "\u001b[90m     @\u001b[39m \u001b[90m~/.julia/dev/GalacticDynamics/src/\u001b[39m\u001b[90m\u001b[4mevolutions.jl:24\u001b[24m\u001b[39m\n",
       " [7] evolve(\u001b[90mpot\u001b[39m::\u001b[1mP\u001b[22m, \u001b[90mevent\u001b[39m::\u001b[1mEvent\u001b[22m, \u001b[90mt_span\u001b[39m::\u001b[1mTuple\u001b[22m\u001b[0m{Union{Quantity{T, 𝐓, U}, Level{L, S, Quantity{T, 𝐓, U}} where {L, S}} where {T, U}, Union{Quantity{T, 𝐓, U}, Level{L, S, Quantity{T, 𝐓, U}} where {L, S}} where {T, U}}, \u001b[90msolver\u001b[39m; options) where P<:Union{GalacticDynamics.AbstractPotential, Vector{<:GalacticDynamics.AbstractPotential}}\n",
       "\u001b[90m     @\u001b[39m \u001b[90m~/.julia/dev/GalacticDynamics/src/\u001b[39m\u001b[90m\u001b[4mevolutions.jl:24\u001b[24m\u001b[39m\n",
       " [8] evolve(\u001b[90mpot\u001b[39m::\u001b[1mP\u001b[22m, \u001b[90mp\u001b[39m::\u001b[1mTestParticle\u001b[22m, \u001b[90mt_span\u001b[39m::\u001b[1mTuple\u001b[22m\u001b[0m{Union{Quantity{T, 𝐓, U}, Level{L, S, Quantity{T, 𝐓, U}} where {L, S}} where {T, U}, Union{Quantity{T, 𝐓, U}, Level{L, S, Quantity{T, 𝐓, U}} where {L, S}} where {T, U}}; ...) where P<:Union{GalacticDynamics.AbstractPotential, Vector{<:GalacticDynamics.AbstractPotential}}\n",
       "\u001b[90m     @\u001b[39m \u001b[90m~/.julia/dev/GalacticDynamics/src/\u001b[39m\u001b[90m\u001b[4mevolutions.jl:33\u001b[24m\u001b[39m"
      ]
     },
     "metadata": {},
     "output_type": "display_data"
    }
   ],
   "source": [
    "methods(evolve)"
   ]
  },
  {
   "cell_type": "code",
   "execution_count": 31,
   "metadata": {},
   "outputs": [
    {
     "data": {
      "text/plain": [
       "BenchmarkTools.Trial: 2889 samples with 1 evaluation.\n",
       " Range \u001b[90m(\u001b[39m\u001b[36m\u001b[1mmin\u001b[22m\u001b[39m … \u001b[35mmax\u001b[39m\u001b[90m):  \u001b[39m\u001b[36m\u001b[1m1.431 ms\u001b[22m\u001b[39m … \u001b[35m 45.189 ms\u001b[39m  \u001b[90m┊\u001b[39m GC \u001b[90m(\u001b[39mmin … max\u001b[90m): \u001b[39m0.00% … 0.00%\n",
       " Time  \u001b[90m(\u001b[39m\u001b[34m\u001b[1mmedian\u001b[22m\u001b[39m\u001b[90m):     \u001b[39m\u001b[34m\u001b[1m1.632 ms               \u001b[22m\u001b[39m\u001b[90m┊\u001b[39m GC \u001b[90m(\u001b[39mmedian\u001b[90m):    \u001b[39m0.00%\n",
       " Time  \u001b[90m(\u001b[39m\u001b[32m\u001b[1mmean\u001b[22m\u001b[39m ± \u001b[32mσ\u001b[39m\u001b[90m):   \u001b[39m\u001b[32m\u001b[1m1.717 ms\u001b[22m\u001b[39m ± \u001b[32m849.900 μs\u001b[39m  \u001b[90m┊\u001b[39m GC \u001b[90m(\u001b[39mmean ± σ\u001b[90m):  \u001b[39m0.00% ± 0.00%\n",
       "\n",
       "  \u001b[39m \u001b[39m▇\u001b[39m█\u001b[39m▆\u001b[39m▂\u001b[39m \u001b[39m \u001b[39m \u001b[39m \u001b[34m \u001b[39m\u001b[39m \u001b[39m \u001b[39m \u001b[32m \u001b[39m\u001b[39m \u001b[39m \u001b[39m \u001b[39m \u001b[39m \u001b[39m \u001b[39m \u001b[39m \u001b[39m \u001b[39m \u001b[39m \u001b[39m \u001b[39m \u001b[39m \u001b[39m \u001b[39m \u001b[39m \u001b[39m \u001b[39m \u001b[39m \u001b[39m \u001b[39m \u001b[39m \u001b[39m \u001b[39m \u001b[39m \u001b[39m \u001b[39m \u001b[39m \u001b[39m \u001b[39m \u001b[39m \u001b[39m \u001b[39m \u001b[39m \u001b[39m \u001b[39m \u001b[39m \u001b[39m \u001b[39m \u001b[39m \u001b[39m \u001b[39m \u001b[39m \u001b[39m \u001b[39m \u001b[39m \n",
       "  \u001b[39m▃\u001b[39m█\u001b[39m█\u001b[39m█\u001b[39m█\u001b[39m█\u001b[39m▆\u001b[39m▅\u001b[39m▅\u001b[34m▄\u001b[39m\u001b[39m▄\u001b[39m▄\u001b[39m▅\u001b[32m▅\u001b[39m\u001b[39m▆\u001b[39m▆\u001b[39m▆\u001b[39m▇\u001b[39m▆\u001b[39m▅\u001b[39m▄\u001b[39m▄\u001b[39m▄\u001b[39m▃\u001b[39m▃\u001b[39m▃\u001b[39m▃\u001b[39m▂\u001b[39m▂\u001b[39m▂\u001b[39m▂\u001b[39m▂\u001b[39m▁\u001b[39m▁\u001b[39m▁\u001b[39m▁\u001b[39m▁\u001b[39m▁\u001b[39m▁\u001b[39m▁\u001b[39m▁\u001b[39m▁\u001b[39m▁\u001b[39m▁\u001b[39m▁\u001b[39m▁\u001b[39m▁\u001b[39m▁\u001b[39m▁\u001b[39m▁\u001b[39m▁\u001b[39m▁\u001b[39m▁\u001b[39m▁\u001b[39m▁\u001b[39m▁\u001b[39m▁\u001b[39m▁\u001b[39m▁\u001b[39m \u001b[39m▂\n",
       "  1.43 ms\u001b[90m         Histogram: frequency by time\u001b[39m        2.69 ms \u001b[0m\u001b[1m<\u001b[22m\n",
       "\n",
       " Memory estimate\u001b[90m: \u001b[39m\u001b[33m2.27 KiB\u001b[39m, allocs estimate\u001b[90m: \u001b[39m\u001b[33m89\u001b[39m."
      ]
     },
     "metadata": {},
     "output_type": "display_data"
    }
   ],
   "source": [
    "@benchmark pot_Gala.integrate_orbit(w₀, dt=Δt*au.Gyr, t1=t₁, t2=(t₂)*au.Gyr,\n",
    "                                    Integrator=gi.DOPRI853Integrator,\n",
    "                                    Integrator_kwargs=Dict(\"rtol\"=>5.0e-8))\n"
   ]
  },
  {
   "cell_type": "code",
   "execution_count": 40,
   "metadata": {},
   "outputs": [
    {
     "ename": "MethodError",
     "evalue": "MethodError: no method matching evolve(::NFW{Float64, Float64}, ::Vector{Int64}, ::Vector{Int64}, ::Tuple{Float64, Float64}, ::Vern7{typeof(OrdinaryDiffEq.trivial_limiter!), typeof(OrdinaryDiffEq.trivial_limiter!), Static.False}; options::@NamedTuple{abstol::Float64, reltol::Float64, saveat::Float64})\n\nClosest candidates are:\n  evolve(::P, !Matched::TestParticle, !Matched::Tuple{Union{Quantity{T, 𝐓, U}, Level{L, S, Quantity{T, 𝐓, U}} where {L, S}} where {T, U}, Union{Quantity{T, 𝐓, U}, Level{L, S, Quantity{T, 𝐓, U}} where {L, S}} where {T, U}}, ::Any; options) where P<:Union{GalacticDynamics.AbstractPotential, Vector{<:GalacticDynamics.AbstractPotential}}\n   @ GalacticDynamics ~/.julia/dev/GalacticDynamics/src/evolutions.jl:33\n  evolve(::Union{GalacticDynamics.AbstractPotential, Vector{<:GalacticDynamics.AbstractPotential}}, !Matched::Vector{<:Union{Quantity{T, 𝐋, U}, Level{L, S, Quantity{T, 𝐋, U}} where {L, S}} where {T, U}}, !Matched::Vector{<:Union{Quantity{T, 𝐋 𝐓^-1, U}, Level{L, S, Quantity{T, 𝐋 𝐓^-1, U}} where {L, S}} where {T, U}}, !Matched::Tuple{Union{Quantity{T, 𝐓, U}, Level{L, S, Quantity{T, 𝐓, U}} where {L, S}} where {T, U}, Union{Quantity{T, 𝐓, U}, Level{L, S, Quantity{T, 𝐓, U}} where {L, S}} where {T, U}}, ::Any; options)\n   @ GalacticDynamics ~/.julia/dev/GalacticDynamics/src/evolutions.jl:16\n  evolve(::P, !Matched::Event, !Matched::Tuple{Union{Quantity{T, 𝐓, U}, Level{L, S, Quantity{T, 𝐓, U}} where {L, S}} where {T, U}, Union{Quantity{T, 𝐓, U}, Level{L, S, Quantity{T, 𝐓, U}} where {L, S}} where {T, U}}, ::Any; options) where P<:Union{GalacticDynamics.AbstractPotential, Vector{<:GalacticDynamics.AbstractPotential}}\n   @ GalacticDynamics ~/.julia/dev/GalacticDynamics/src/evolutions.jl:24\n  ...\n",
     "output_type": "error",
     "traceback": [
      "MethodError: no method matching evolve(::NFW{Float64, Float64}, ::Vector{Int64}, ::Vector{Int64}, ::Tuple{Float64, Float64}, ::Vern7{typeof(OrdinaryDiffEq.trivial_limiter!), typeof(OrdinaryDiffEq.trivial_limiter!), Static.False}; options::@NamedTuple{abstol::Float64, reltol::Float64, saveat::Float64})\n",
      "\n",
      "Closest candidates are:\n",
      "  evolve(::P, !Matched::TestParticle, !Matched::Tuple{Union{Quantity{T, 𝐓, U}, Level{L, S, Quantity{T, 𝐓, U}} where {L, S}} where {T, U}, Union{Quantity{T, 𝐓, U}, Level{L, S, Quantity{T, 𝐓, U}} where {L, S}} where {T, U}}, ::Any; options) where P<:Union{GalacticDynamics.AbstractPotential, Vector{<:GalacticDynamics.AbstractPotential}}\n",
      "   @ GalacticDynamics ~/.julia/dev/GalacticDynamics/src/evolutions.jl:33\n",
      "  evolve(::Union{GalacticDynamics.AbstractPotential, Vector{<:GalacticDynamics.AbstractPotential}}, !Matched::Vector{<:Union{Quantity{T, 𝐋, U}, Level{L, S, Quantity{T, 𝐋, U}} where {L, S}} where {T, U}}, !Matched::Vector{<:Union{Quantity{T, 𝐋 𝐓^-1, U}, Level{L, S, Quantity{T, 𝐋 𝐓^-1, U}} where {L, S}} where {T, U}}, !Matched::Tuple{Union{Quantity{T, 𝐓, U}, Level{L, S, Quantity{T, 𝐓, U}} where {L, S}} where {T, U}, Union{Quantity{T, 𝐓, U}, Level{L, S, Quantity{T, 𝐓, U}} where {L, S}} where {T, U}}, ::Any; options)\n",
      "   @ GalacticDynamics ~/.julia/dev/GalacticDynamics/src/evolutions.jl:16\n",
      "  evolve(::P, !Matched::Event, !Matched::Tuple{Union{Quantity{T, 𝐓, U}, Level{L, S, Quantity{T, 𝐓, U}} where {L, S}} where {T, U}, Union{Quantity{T, 𝐓, U}, Level{L, S, Quantity{T, 𝐓, U}} where {L, S}} where {T, U}}, ::Any; options) where P<:Union{GalacticDynamics.AbstractPotential, Vector{<:GalacticDynamics.AbstractPotential}}\n",
      "   @ GalacticDynamics ~/.julia/dev/GalacticDynamics/src/evolutions.jl:24\n",
      "  ...\n",
      "\n",
      "\n",
      "Stacktrace:\n",
      " [1] top-level scope\n",
      "   @ ~/.julia/dev/GalacticDynamics/test/QuickTests.ipynb:1"
     ]
    }
   ],
   "source": [
    "evolve(pot, x₀, v₀, t_range, Vern7(); options=ntSolverOptions(; reltol=5.0e-10, saveat=Δt))"
   ]
  },
  {
   "cell_type": "code",
   "execution_count": null,
   "metadata": {},
   "outputs": [],
   "source": []
  }
 ],
 "metadata": {
  "kernelspec": {
   "display_name": "Julia 1.10.4",
   "language": "julia",
   "name": "julia-1.10"
  },
  "language_info": {
   "file_extension": ".jl",
   "mimetype": "application/julia",
   "name": "julia",
   "version": "1.10.4"
  }
 },
 "nbformat": 4,
 "nbformat_minor": 2
}
