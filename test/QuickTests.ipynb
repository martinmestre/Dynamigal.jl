{
 "cells": [
  {
   "cell_type": "markdown",
   "metadata": {},
   "source": [
    "# Quick test outside of Test macro"
   ]
  },
  {
   "cell_type": "code",
   "execution_count": 20,
   "metadata": {},
   "outputs": [
    {
     "data": {
      "text/plain": [
       "Python: <module 'gala.integrate' from '/home/mmestre/.conda/envs/cosmos/lib/python3.11/site-packages/gala/integrate/__init__.py'>"
      ]
     },
     "metadata": {},
     "output_type": "display_data"
    }
   ],
   "source": [
    "using GalacticDynamics\n",
    "using Test\n",
    "using PythonCall\n",
    "using ODEInterfaceDiffEq\n",
    "using DifferentialEquations\n",
    "\n",
    "\n",
    "pyimport(\"sys\").\"path\".append(\"\")\n",
    "pyimport(\"sys\").\"path\".append(\"python\")\n",
    "accelerations_py = pyimport(\"accelerations\")\n",
    "au = pyimport(\"astropy.units\")\n",
    "gd = pyimport(\"gala.dynamics\")\n",
    "gp = pyimport(\"gala.potential\")\n",
    "gu = pyimport(\"gala.units\")\n",
    "gi = pyimport(\"gala.integrate\")"
   ]
  },
  {
   "cell_type": "code",
   "execution_count": 14,
   "metadata": {},
   "outputs": [
    {
     "data": {
      "text/plain": [
       "Python: <PhaseSpacePosition cartesian, dim=3, shape=()>"
      ]
     },
     "metadata": {},
     "output_type": "display_data"
    }
   ],
   "source": [
    "\n",
    "t₁, t₂ = 0.0, 0.1\n",
    "t_range = (t₁, t₂)\n",
    "Δt = 0.01\n",
    "x₀ = 10*[1,0,0]\n",
    "v₀ = 100*[1,0,0]\n",
    "m = 10^12*𝕦.m  # Msun\n",
    "a = 20*𝕦.l\n",
    "pot = NFW(m, a)\n",
    "c = concentration(pot)\n",
    "f(x) = log(1+x)-x/(1+x)\n",
    "m_g = m/f(c)\n",
    "usys = gu.UnitSystem(au.kpc, au.Gyr, au.Msun, au.radian, au.km/au.s, au.km/au.Gyr^2)\n",
    "pot_Gala = gp.NFWPotential(Py(adimensional(m_g))*au.Msun, Py(adimensional(a))*au.kpc, units=usys)\n",
    "w₀ = gd.PhaseSpacePosition(pos=Py(x₀)*au.kpc, vel=Py(v₀)*au.km/au.s)"
   ]
  },
  {
   "cell_type": "code",
   "execution_count": 17,
   "metadata": {},
   "outputs": [
    {
     "name": "stdout",
     "output_type": "stream",
     "text": [
      "orb_gala.x = <py Quantity [10.        , 10.91844425, 11.6337007 , 12.15212205, 12.4781083 ,\n",
      "           12.61434284, 12.56192863, 12.3204426 , 11.88791487, 11.26073038,\n",
      "           10.43344028,  9.39845702] kpc>\n",
      "sol.x = [10.0 10.895696546502945 11.588000254694084 12.083075368523923 12.385141191762845 12.496698660900227 12.418657763536984 12.150382676148439 11.689660289203934 11.032588216750872 10.173367496194926; 0.0 0.0 0.0 0.0 0.0 0.0 0.0 0.0 0.0 0.0 0.0; 0.0 0.0 0.0 0.0 0.0 0.0 0.0 0.0 0.0 0.0 0.0]\n",
      "𝕤.ode = Tsit5(; stage_limiter! = trivial_limiter!, step_limiter! = trivial_limiter!, thread = static(false),)\n"
     ]
    },
    {
     "data": {
      "text/plain": [
       "Tsit5(; stage_limiter! = trivial_limiter!, step_limiter! = trivial_limiter!, thread = static(false),)"
      ]
     },
     "metadata": {},
     "output_type": "display_data"
    }
   ],
   "source": [
    "orb_gala = pot_Gala.integrate_orbit(w₀, dt=Δt*au.Gyr, t1=t₁, t2=(t₂+Δt)*au.Gyr,\n",
    "                                    Integrator=gi.DOPRI853Integrator)\n",
    "@show orb_gala.x\n",
    "sol = evolve(pot, x₀, v₀, t_range; options=ntSolverOptions(; saveat=Δt))\n",
    "@show sol.x\n",
    "@show 𝕤.ode"
   ]
  },
  {
   "cell_type": "code",
   "execution_count": 31,
   "metadata": {},
   "outputs": [
    {
     "name": "stdout",
     "output_type": "stream",
     "text": [
      "sol.x = [10.0 10.89569654712676 11.588000256102779 12.083075367940987 12.385141192395608 12.496698661487171 12.41865776477321 12.150382676478769 11.68966029373267 11.03258821127346 10.173367498333134; 0.0 0.0 0.0 0.0 0.0 0.0 0.0 0.0 0.0 0.0 0.0; 0.0 0.0 0.0 0.0 0.0 0.0 0.0 0.0 0.0 0.0 0.0]\n"
     ]
    }
   ],
   "source": [
    "sol = evolve(pot, x₀, v₀, t_range, Vern7(); options=ntSolverOptions(; saveat=Δt))\n",
    "@show sol.x;"
   ]
  },
  {
   "cell_type": "code",
   "execution_count": 32,
   "metadata": {},
   "outputs": [
    {
     "ename": "MethodError",
     "evalue": "MethodError: no method matching dopri5(::ODEInterfaceDiffEq.var\"#12#18\"{ODEProblem{StaticArraysCore.SVector{6, Float64}, Tuple{Float64, Float64}, false, NFW{Int64, Int64}, ODEFunction{false, SciMLBase.AutoSpecialize, typeof(ode), LinearAlgebra.UniformScaling{Bool}, Nothing, Nothing, Nothing, Nothing, Nothing, Nothing, Nothing, Nothing, Nothing, Nothing, Nothing, typeof(SciMLBase.DEFAULT_OBSERVED), Nothing, Nothing, Nothing, Nothing}, Base.Pairs{Symbol, Union{}, Tuple{}, @NamedTuple{}}, SciMLBase.StandardODEProblem}, Tuple{Int64}}, ::Float64, ::Float64, ::StaticArraysCore.SVector{6, Float64}, ::ODEInterface.OptionsODE)\n\nClosest candidates are:\n  dopri5(::Any, ::Real, ::Real, !Matched::Vector, ::ODEInterface.AbstractOptionsODE)\n   @ ODEInterface ~/.julia/packages/ODEInterface/RwRLn/src/Dopri5.jl:100\n",
     "output_type": "error",
     "traceback": [
      "MethodError: no method matching dopri5(::ODEInterfaceDiffEq.var\"#12#18\"{ODEProblem{StaticArraysCore.SVector{6, Float64}, Tuple{Float64, Float64}, false, NFW{Int64, Int64}, ODEFunction{false, SciMLBase.AutoSpecialize, typeof(ode), LinearAlgebra.UniformScaling{Bool}, Nothing, Nothing, Nothing, Nothing, Nothing, Nothing, Nothing, Nothing, Nothing, Nothing, Nothing, typeof(SciMLBase.DEFAULT_OBSERVED), Nothing, Nothing, Nothing, Nothing}, Base.Pairs{Symbol, Union{}, Tuple{}, @NamedTuple{}}, SciMLBase.StandardODEProblem}, Tuple{Int64}}, ::Float64, ::Float64, ::StaticArraysCore.SVector{6, Float64}, ::ODEInterface.OptionsODE)\n",
      "\n",
      "Closest candidates are:\n",
      "  dopri5(::Any, ::Real, ::Real, !Matched::Vector, ::ODEInterface.AbstractOptionsODE)\n",
      "   @ ODEInterface ~/.julia/packages/ODEInterface/RwRLn/src/Dopri5.jl:100\n",
      "\n",
      "\n",
      "Stacktrace:\n",
      " [1] __solve(prob::ODEProblem{StaticArraysCore.SVector{6, Float64}, Tuple{Float64, Float64}, false, NFW{Int64, Int64}, ODEFunction{false, SciMLBase.AutoSpecialize, typeof(ode), LinearAlgebra.UniformScaling{Bool}, Nothing, Nothing, Nothing, Nothing, Nothing, Nothing, Nothing, Nothing, Nothing, Nothing, Nothing, typeof(SciMLBase.DEFAULT_OBSERVED), Nothing, Nothing, Nothing, Nothing}, @Kwargs{}, SciMLBase.StandardODEProblem}, alg::dopri5, timeseries::Vector{Any}, ts::Vector{Any}, ks::Vector{Any}; saveat::Float64, verbose::Bool, save_everystep::Bool, save_on::Bool, save_start::Bool, timeseries_errors::Bool, dense_errors::Bool, callback::Nothing, alias_u0::Bool, kwargs::@Kwargs{abstol::Float64, reltol::Float64})\n",
      "   @ ODEInterfaceDiffEq ~/.julia/packages/ODEInterfaceDiffEq/EIV4j/src/solve.jl:132\n",
      " [2] __solve (repeats 2 times)\n",
      "   @ ~/.julia/packages/ODEInterfaceDiffEq/EIV4j/src/solve.jl:1 [inlined]\n",
      " [3] solve_call(_prob::ODEProblem{StaticArraysCore.SVector{6, Float64}, Tuple{Float64, Float64}, false, NFW{Int64, Int64}, ODEFunction{false, SciMLBase.AutoSpecialize, typeof(ode), LinearAlgebra.UniformScaling{Bool}, Nothing, Nothing, Nothing, Nothing, Nothing, Nothing, Nothing, Nothing, Nothing, Nothing, Nothing, typeof(SciMLBase.DEFAULT_OBSERVED), Nothing, Nothing, Nothing, Nothing}, @Kwargs{}, SciMLBase.StandardODEProblem}, args::dopri5; merge_callbacks::Bool, kwargshandle::Nothing, kwargs::@Kwargs{abstol::Float64, reltol::Float64, saveat::Float64})\n",
      "   @ DiffEqBase ~/.julia/packages/DiffEqBase/V6SCE/src/solve.jl:612\n",
      " [4] solve_up(prob::ODEProblem{StaticArraysCore.SVector{6, Int64}, Tuple{Float64, Float64}, false, NFW{Int64, Int64}, ODEFunction{false, SciMLBase.AutoSpecialize, typeof(ode), LinearAlgebra.UniformScaling{Bool}, Nothing, Nothing, Nothing, Nothing, Nothing, Nothing, Nothing, Nothing, Nothing, Nothing, Nothing, typeof(SciMLBase.DEFAULT_OBSERVED), Nothing, Nothing, Nothing, Nothing}, @Kwargs{}, SciMLBase.StandardODEProblem}, sensealg::Nothing, u0::StaticArraysCore.SVector{6, Int64}, p::NFW{Int64, Int64}, args::dopri5; kwargs::@Kwargs{abstol::Float64, reltol::Float64, saveat::Float64})\n",
      "   @ DiffEqBase ~/.julia/packages/DiffEqBase/V6SCE/src/solve.jl:1080\n",
      " [5] solve_up\n",
      "   @ ~/.julia/packages/DiffEqBase/V6SCE/src/solve.jl:1066 [inlined]\n",
      " [6] solve(prob::ODEProblem{StaticArraysCore.SVector{6, Int64}, Tuple{Float64, Float64}, false, NFW{Int64, Int64}, ODEFunction{false, SciMLBase.AutoSpecialize, typeof(ode), LinearAlgebra.UniformScaling{Bool}, Nothing, Nothing, Nothing, Nothing, Nothing, Nothing, Nothing, Nothing, Nothing, Nothing, Nothing, typeof(SciMLBase.DEFAULT_OBSERVED), Nothing, Nothing, Nothing, Nothing}, @Kwargs{}, SciMLBase.StandardODEProblem}, args::dopri5; sensealg::Nothing, u0::Nothing, p::Nothing, wrap::Val{true}, kwargs::@Kwargs{abstol::Float64, reltol::Float64, saveat::Float64})\n",
      "   @ DiffEqBase ~/.julia/packages/DiffEqBase/V6SCE/src/solve.jl:1003\n",
      " [7] evolve(pot::NFW{Int64, Int64}, x::Vector{Int64}, v::Vector{Int64}, t_span::Tuple{Float64, Float64}, solver::dopri5; options::@NamedTuple{abstol::Float64, reltol::Float64, saveat::Float64})\n",
      "   @ GalacticDynamics ~/.julia/dev/GalacticDynamics/src/evolutions.jl:10\n",
      " [8] top-level scope\n",
      "   @ ~/.julia/dev/GalacticDynamics/test/QuickTests.ipynb:1"
     ]
    }
   ],
   "source": [
    "sol = evolve(pot, x₀, v₀, t_range, ODEInterfaceDiffEq.dopri5(); options=ntSolverOptions(; saveat=Δt))\n",
    "@show sol.x;"
   ]
  },
  {
   "cell_type": "code",
   "execution_count": null,
   "metadata": {},
   "outputs": [],
   "source": []
  }
 ],
 "metadata": {
  "kernelspec": {
   "display_name": "Julia 1.10.4",
   "language": "julia",
   "name": "julia-1.10"
  },
  "language_info": {
   "file_extension": ".jl",
   "mimetype": "application/julia",
   "name": "julia",
   "version": "1.10.4"
  }
 },
 "nbformat": 4,
 "nbformat_minor": 2
}
