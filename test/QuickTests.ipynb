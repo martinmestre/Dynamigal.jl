{
 "cells": [
  {
   "cell_type": "markdown",
   "metadata": {},
   "source": [
    "# Quick test outside of Test macro"
   ]
  },
  {
   "cell_type": "code",
   "execution_count": 20,
   "metadata": {},
   "outputs": [
    {
     "data": {
      "text/plain": [
       "Python: <module 'gala.integrate' from '/home/mmestre/.conda/envs/cosmos/lib/python3.11/site-packages/gala/integrate/__init__.py'>"
      ]
     },
     "metadata": {},
     "output_type": "display_data"
    }
   ],
   "source": [
    "using GalacticDynamics\n",
    "using Test\n",
    "using PythonCall\n",
    "using ODEInterfaceDiffEq\n",
    "using DifferentialEquations\n",
    "\n",
    "\n",
    "pyimport(\"sys\").\"path\".append(\"\")\n",
    "pyimport(\"sys\").\"path\".append(\"python\")\n",
    "accelerations_py = pyimport(\"accelerations\")\n",
    "au = pyimport(\"astropy.units\")\n",
    "gd = pyimport(\"gala.dynamics\")\n",
    "gp = pyimport(\"gala.potential\")\n",
    "gu = pyimport(\"gala.units\")\n",
    "gi = pyimport(\"gala.integrate\")"
   ]
  },
  {
   "cell_type": "code",
   "execution_count": 14,
   "metadata": {},
   "outputs": [
    {
     "data": {
      "text/plain": [
       "Python: <PhaseSpacePosition cartesian, dim=3, shape=()>"
      ]
     },
     "metadata": {},
     "output_type": "display_data"
    }
   ],
   "source": [
    "\n",
    "t₁, t₂ = 0.0, 0.1\n",
    "t_range = (t₁, t₂)\n",
    "Δt = 0.01\n",
    "x₀ = 10*[1,0,0]\n",
    "v₀ = 100*[1,0,0]\n",
    "m = 10^12*𝕦.m  # Msun\n",
    "a = 20*𝕦.l\n",
    "pot = NFW(m, a)\n",
    "c = concentration(pot)\n",
    "f(x) = log(1+x)-x/(1+x)\n",
    "m_g = m/f(c)\n",
    "usys = gu.UnitSystem(au.kpc, au.Gyr, au.Msun, au.radian, au.km/au.s, au.km/au.Gyr^2)\n",
    "pot_Gala = gp.NFWPotential(Py(adimensional(m_g))*au.Msun, Py(adimensional(a))*au.kpc, units=usys)\n",
    "w₀ = gd.PhaseSpacePosition(pos=Py(x₀)*au.kpc, vel=Py(v₀)*au.km/au.s)"
   ]
  },
  {
   "cell_type": "code",
   "execution_count": 49,
   "metadata": {},
   "outputs": [
    {
     "name": "stdout",
     "output_type": "stream",
     "text": [
      "orb_gala.x = <py Quantity [10.        , 10.91844425, 11.6337007 , 12.15212205, 12.4781083 ,\n",
      "           12.61434284, 12.56192863, 12.3204426 , 11.88791487, 11.26073038,\n",
      "           10.43344028,  9.39845702] kpc>\n",
      "sol.x = [10.0 10.895696546502945 11.588000254694084 12.083075368523923 12.385141191762845 12.496698660900227 12.418657763536984 12.150382676148439 11.689660289203934 11.032588216750872 10.173367496194926; 0.0 0.0 0.0 0.0 0.0 0.0 0.0 0.0 0.0 0.0 0.0; 0.0 0.0 0.0 0.0 0.0 0.0 0.0 0.0 0.0 0.0 0.0]\n",
      "𝕤.ode = Tsit5(; stage_limiter! = trivial_limiter!, step_limiter! = trivial_limiter!, thread = static(false),)\n"
     ]
    },
    {
     "data": {
      "text/plain": [
       "Tsit5(; stage_limiter! = trivial_limiter!, step_limiter! = trivial_limiter!, thread = static(false),)"
      ]
     },
     "metadata": {},
     "output_type": "display_data"
    }
   ],
   "source": [
    "orb_gala = pot_Gala.integrate_orbit(w₀, dt=Δt*au.Gyr, t1=t₁, t2=(t₂+Δt)*au.Gyr,\n",
    "                                    Integrator=gi.DOPRI853Integrator,\n",
    "                                    Integrator_kwargs=Dict(\"rtol\"=>5.0e-12, \"atol\"=>0.5e-12))\n",
    "@show orb_gala.x\n",
    "sol = evolve(pot, x₀, v₀, t_range; options=ntSolverOptions(; saveat=Δt))\n",
    "@show sol.x\n",
    "@show 𝕤.ode"
   ]
  },
  {
   "cell_type": "code",
   "execution_count": 34,
   "metadata": {},
   "outputs": [
    {
     "name": "stdout",
     "output_type": "stream",
     "text": [
      "sol.x = [10.0 10.89569654712676 11.588000256102779 12.083075367940987 12.385141192395608 12.496698661487171 12.41865776477321 12.150382676478769 11.68966029373267 11.03258821127346 10.173367498333134; 0.0 0.0 0.0 0.0 0.0 0.0 0.0 0.0 0.0 0.0 0.0; 0.0 0.0 0.0 0.0 0.0 0.0 0.0 0.0 0.0 0.0 0.0]\n"
     ]
    }
   ],
   "source": [
    "sol = evolve(pot, x₀, v₀, t_range, Vern7(); options=ntSolverOptions(; saveat=Δt))\n",
    "@show sol.x;"
   ]
  },
  {
   "cell_type": "code",
   "execution_count": 35,
   "metadata": {},
   "outputs": [
    {
     "name": "stdout",
     "output_type": "stream",
     "text": [
      "sol.x = [10.0 10.895696539341532 11.588000260948066 12.083075365380834 12.385141185683452 12.496698660861693 12.418657761370094 12.15038266552423 11.68966025897951 11.032588274154195 10.173367497878917; 0.0 0.0 0.0 0.0 0.0 0.0 0.0 0.0 0.0 0.0 0.0; 0.0 0.0 0.0 0.0 0.0 0.0 0.0 0.0 0.0 0.0 0.0]\n"
     ]
    }
   ],
   "source": [
    "sol = evolve(pot, x₀, v₀, t_range, DP8(); options=ntSolverOptions(; saveat=Δt))\n",
    "@show sol.x;"
   ]
  },
  {
   "cell_type": "code",
   "execution_count": null,
   "metadata": {},
   "outputs": [],
   "source": []
  }
 ],
 "metadata": {
  "kernelspec": {
   "display_name": "Julia 1.10.4",
   "language": "julia",
   "name": "julia-1.10"
  },
  "language_info": {
   "file_extension": ".jl",
   "mimetype": "application/julia",
   "name": "julia",
   "version": "1.10.4"
  }
 },
 "nbformat": 4,
 "nbformat_minor": 2
}
